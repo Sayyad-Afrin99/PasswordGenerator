{
 "cells": [
  {
   "cell_type": "code",
   "execution_count": 1,
   "id": "6aa1977b",
   "metadata": {},
   "outputs": [
    {
     "name": "stdout",
     "output_type": "stream",
     "text": [
      "Strong Password Generator\n",
      "Enter the desired password length (minimum 12 characters): 13\n",
      "Generated Strong Password: d)16Gx)t2:E,S\n"
     ]
    }
   ],
   "source": [
    "import random\n",
    "import string\n",
    "\n",
    "def generate_password(length=12):\n",
    "    \n",
    "    letters = string.ascii_letters \n",
    "    digits = string.digits          \n",
    "    punctuation = string.punctuation  \n",
    "    \n",
    "    all_characters = letters + digits + punctuation\n",
    "    \n",
    "    password = ''.join(random.choice(all_characters) for _ in range(length))\n",
    "    \n",
    "    if (any(char.islower() for char in password) and\n",
    "        any(char.isupper() for char in password) and\n",
    "        any(char.isdigit() for char in password) and\n",
    "        any(char in punctuation for char in password)):\n",
    "        return password\n",
    "    else:\n",
    "        return generate_password(length)\n",
    "\n",
    "if __name__ == \"__main__\":\n",
    "    print(\"Strong Password Generator\")\n",
    "    length = int(input(\"Enter the desired password length (minimum 12 characters): \"))\n",
    "    \n",
    "    if length < 12:\n",
    "        print(\"Password length should be at least 12 characters for better security. Setting length to 12.\")\n",
    "        length = 12\n",
    "        \n",
    "    strong_password = generate_password(length)\n",
    "    print(f\"Generated Strong Password: {strong_password}\")\n"
   ]
  }
 ],
 "metadata": {
  "kernelspec": {
   "display_name": "Python 3 (ipykernel)",
   "language": "python",
   "name": "python3"
  },
  "language_info": {
   "codemirror_mode": {
    "name": "ipython",
    "version": 3
   },
   "file_extension": ".py",
   "mimetype": "text/x-python",
   "name": "python",
   "nbconvert_exporter": "python",
   "pygments_lexer": "ipython3",
   "version": "3.11.5"
  }
 },
 "nbformat": 4,
 "nbformat_minor": 5
}
